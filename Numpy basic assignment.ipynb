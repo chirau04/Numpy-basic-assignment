{
 "cells": [
  {
   "cell_type": "code",
   "execution_count": 1,
   "id": "148812e4-daf6-42ae-a291-d8d2e0cdb5ac",
   "metadata": {},
   "outputs": [
    {
     "name": "stdout",
     "output_type": "stream",
     "text": [
      "Data type of variable 'list': <class 'list'>\n",
      "Data type of variable 'array_list': <class 'numpy.ndarray'>\n"
     ]
    }
   ],
   "source": [
    "import numpy as np\n",
    "\n",
    "# Define list\n",
    "list = [1, 2, 3, 4, 5]\n",
    "\n",
    "# Convert list to numpy array\n",
    "array_list = np.array(list)\n",
    "\n",
    "# Print data types\n",
    "print(\"Data type of variable 'list':\", type(list))\n",
    "print(\"Data type of variable 'array_list':\", type(array_list))"
   ]
  },
  {
   "cell_type": "code",
   "execution_count": 2,
   "id": "7ae027d4-93b3-4cc2-9e0f-5713a17f52a0",
   "metadata": {},
   "outputs": [
    {
     "name": "stdout",
     "output_type": "stream",
     "text": [
      "Data types of elements in 'list':\n",
      "<class 'int'>\n",
      "<class 'int'>\n",
      "<class 'int'>\n",
      "<class 'int'>\n",
      "<class 'int'>\n",
      "\n",
      "Data types of elements in 'array_list':\n",
      "<class 'numpy.int64'>\n",
      "<class 'numpy.int64'>\n",
      "<class 'numpy.int64'>\n",
      "<class 'numpy.int64'>\n",
      "<class 'numpy.int64'>\n"
     ]
    }
   ],
   "source": [
    "import numpy as np\n",
    "\n",
    "# Define list\n",
    "list = [1, 2, 3, 4, 5]\n",
    "\n",
    "# Convert list to numpy array\n",
    "array_list = np.array(list)\n",
    "\n",
    "# Print data types of elements in 'list'\n",
    "print(\"Data types of elements in 'list':\")\n",
    "for item in list:\n",
    "    print(type(item))\n",
    "\n",
    "# Print data types of elements in 'array_list'\n",
    "print(\"\\nData types of elements in 'array_list':\")\n",
    "for item in array_list:\n",
    "    print(type(item))"
   ]
  },
  {
   "cell_type": "code",
   "execution_count": 3,
   "id": "20d3907f-a475-4d23-a2d0-8b3e54b20936",
   "metadata": {},
   "outputs": [
    {
     "name": "stdout",
     "output_type": "stream",
     "text": [
      "Data types of elements in 'ArrayList':\n",
      "<class 'numpy.int64'>\n",
      "<class 'numpy.int64'>\n",
      "<class 'numpy.int64'>\n",
      "<class 'numpy.int64'>\n",
      "<class 'numpy.int64'>\n",
      "\n",
      "Data type of 'object': <class 'list'>\n"
     ]
    },
    {
     "name": "stderr",
     "output_type": "stream",
     "text": [
      "/tmp/ipykernel_110/1254682524.py:7: DeprecationWarning: `np.int` is a deprecated alias for the builtin `int`. To silence this warning, use `int` by itself. Doing this will not modify any behavior and is safe. When replacing `np.int`, you may wish to use e.g. `np.int64` or `np.int32` to specify the precision. If you wish to review your current use, check the release note link for additional information.\n",
      "Deprecated in NumPy 1.20; for more details and guidance: https://numpy.org/devdocs/release/1.20.0-notes.html#deprecations\n",
      "  ArrayList = np.array(list, dtype=np.int)\n"
     ]
    }
   ],
   "source": [
    "import numpy as np\n",
    "\n",
    "# Define list\n",
    "list = [1, 2, 3, 4, 5]\n",
    "\n",
    "# Convert list to numpy array with specified dtype\n",
    "ArrayList = np.array(list, dtype=np.int)\n",
    "\n",
    "# Store list in the variable 'object'\n",
    "object = list\n",
    "\n",
    "# Print data types of elements in 'ArrayList'\n",
    "print(\"Data types of elements in 'ArrayList':\")\n",
    "for item in ArrayList:\n",
    "    print(type(item))\n",
    "\n",
    "# Print data type of 'object'\n",
    "print(\"\\nData type of 'object':\", type(object))"
   ]
  },
  {
   "cell_type": "code",
   "execution_count": 4,
   "id": "271bb004-dd98-47e0-abe6-662b5af70a42",
   "metadata": {},
   "outputs": [
    {
     "name": "stdout",
     "output_type": "stream",
     "text": [
      "Data types of elements in 'num_list':\n",
      "<class 'int'>\n",
      "<class 'int'>\n",
      "<class 'int'>\n",
      "<class 'int'>\n",
      "<class 'int'>\n",
      "<class 'int'>\n",
      "\n",
      "Data types of elements in 'num_array':\n",
      "<class 'numpy.int64'>\n",
      "<class 'numpy.int64'>\n",
      "<class 'numpy.int64'>\n",
      "<class 'numpy.int64'>\n",
      "<class 'numpy.int64'>\n",
      "<class 'numpy.int64'>\n"
     ]
    }
   ],
   "source": [
    "import numpy as np\n",
    "\n",
    "# Define list\n",
    "num_list = [1, 2, 3, 4, 5, 6]\n",
    "\n",
    "# Convert list to numpy array\n",
    "num_array = np.array(num_list)\n",
    "\n",
    "# Store list in the variable 'object'\n",
    "object = num_list\n",
    "\n",
    "# Print data types of elements in 'num_list'\n",
    "print(\"Data types of elements in 'num_list':\")\n",
    "for item in num_list:\n",
    "    print(type(item))\n",
    "\n",
    "# Print data types of elements in 'num_array'\n",
    "print(\"\\nData types of elements in 'num_array':\")\n",
    "for item in num_array:\n",
    "    print(type(item))"
   ]
  },
  {
   "cell_type": "code",
   "execution_count": 5,
   "id": "f1f825e4-f9a2-496f-8816-14f0de471c7c",
   "metadata": {},
   "outputs": [
    {
     "name": "stdout",
     "output_type": "stream",
     "text": [
      "Variable Type: <class 'list'>\n",
      "Array Type: <class 'numpy.ndarray'>\n",
      "First Shape: (6,)\n",
      "Second Size: 6\n"
     ]
    }
   ],
   "source": [
    "import numpy as np\n",
    "\n",
    "# Define list\n",
    "num_list = [1, 2, 3, 4, 5, 6]\n",
    "\n",
    "# Convert list to numpy array\n",
    "num_array = np.array(num_list)\n",
    "\n",
    "# Store list in the variable 'object'\n",
    "object = num_list\n",
    "\n",
    "# Characteristics of variables\n",
    "variable_type = type(object)\n",
    "array_type = type(num_array)\n",
    "first_shape = num_array.shape\n",
    "second_size = num_array.size\n",
    "\n",
    "# Print characteristics\n",
    "print(\"Variable Type:\", variable_type)\n",
    "print(\"Array Type:\", array_type)\n",
    "print(\"First Shape:\", first_shape)\n",
    "print(\"Second Size:\", second_size)"
   ]
  },
  {
   "cell_type": "code",
   "execution_count": null,
   "id": "e360e583-e119-4dd2-a65d-ed5ca6dfbd23",
   "metadata": {},
   "outputs": [],
   "source": []
  }
 ],
 "metadata": {
  "kernelspec": {
   "display_name": "Python 3 (ipykernel)",
   "language": "python",
   "name": "python3"
  },
  "language_info": {
   "codemirror_mode": {
    "name": "ipython",
    "version": 3
   },
   "file_extension": ".py",
   "mimetype": "text/x-python",
   "name": "python",
   "nbconvert_exporter": "python",
   "pygments_lexer": "ipython3",
   "version": "3.10.8"
  }
 },
 "nbformat": 4,
 "nbformat_minor": 5
}
